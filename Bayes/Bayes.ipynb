{
 "cells": [
  {
   "cell_type": "code",
   "execution_count": 11,
   "metadata": {
    "collapsed": false
   },
   "outputs": [
    {
     "name": "stdout",
     "output_type": "stream",
     "text": [
      "  % Total    % Received % Xferd  Average Speed   Time    Time     Time  Current\r\n",
      "                                 Dload  Upload   Total   Spent    Left  Speed\r\n",
      "\r",
      "  0     0    0     0    0     0      0      0 --:--:--  0:00:05 --:--:--     0curl: (77) error setting certificate verify locations:\r\n",
      "  CAfile: /etc/pki/tls/certs/ca-bundle.crt\r\n",
      "  CApath: none\r\n"
     ]
    }
   ],
   "source": [
    "!curl https://archive.ics.uci.edu/ml/machine-learning-databases/00228/smsspamcollection.zip > sms_spam.zip"
   ]
  },
  {
   "cell_type": "code",
   "execution_count": 7,
   "metadata": {
    "collapsed": false
   },
   "outputs": [
    {
     "name": "stdout",
     "output_type": "stream",
     "text": [
      "Archive:  smsspamcollection.zip\r\n",
      "  inflating: SMSSpamCollection       \r\n",
      "  inflating: readme                  \r\n"
     ]
    }
   ],
   "source": [
    "!unzip smsspamcollection.zip"
   ]
  },
  {
   "cell_type": "code",
   "execution_count": 8,
   "metadata": {
    "collapsed": false
   },
   "outputs": [
    {
     "name": "stdout",
     "output_type": "stream",
     "text": [
      "Bayes.ipynb  readme  sms_spam  SMSSpamCollection  smsspamcollection.zip\r\n"
     ]
    }
   ],
   "source": [
    "!ls"
   ]
  },
  {
   "cell_type": "code",
   "execution_count": 10,
   "metadata": {
    "collapsed": false
   },
   "outputs": [
    {
     "name": "stdout",
     "output_type": "stream",
     "text": [
      "ham\tGo until jurong point, crazy.. Available only in bugis n great world la e buffet... Cine there got amore wat...\n",
      "ham\tOk lar... Joking wif u oni...\n",
      "spam\tFree entry in 2 a wkly comp to win FA Cup final tkts 21st May 2005. Text FA to 87121 to receive entry question(std txt rate)T&C's apply 08452810075over18's\n",
      "ham\tU dun say so early hor... U c already then say...\n",
      "ham\tNah I don't think he goes to usf, he lives around here though\n"
     ]
    }
   ],
   "source": [
    "texts = open(\"SMSSpamCollection\", 'r').read().split('\\n')\n",
    "print \"\\n\".join(texts[:5] )"
   ]
  },
  {
   "cell_type": "code",
   "execution_count": 12,
   "metadata": {
    "collapsed": false
   },
   "outputs": [
    {
     "name": "stdout",
     "output_type": "stream",
     "text": [
      "  % Total    % Received % Xferd  Average Speed   Time    Time     Time  Current\n",
      "                                 Dload  Upload   Total   Spent    Left  Speed\n",
      "100  565k  100  565k    0     0   102k      0  0:00:05  0:00:05 --:--:--  136k\n"
     ]
    }
   ],
   "source": [
    "!curl http://archive.ics.uci.edu/ml/machine-learning-databases/00222/bank.zip > bank_marketing.zip"
   ]
  },
  {
   "cell_type": "code",
   "execution_count": 13,
   "metadata": {
    "collapsed": false
   },
   "outputs": [
    {
     "name": "stdout",
     "output_type": "stream",
     "text": [
      "Archive:  bank_marketing.zip\n",
      "  inflating: bank-full.csv           \n",
      "  inflating: bank-names.txt          \n",
      "  inflating: bank.csv                \n"
     ]
    }
   ],
   "source": [
    "!unzip bank_marketing.zip"
   ]
  },
  {
   "cell_type": "code",
   "execution_count": 14,
   "metadata": {
    "collapsed": false
   },
   "outputs": [
    {
     "name": "stdout",
     "output_type": "stream",
     "text": [
      "\"age\";\"job\";\"marital\";\"education\";\"default\";\"balance\";\"housing\";\"loan\";\"contact\";\"day\";\"month\";\"duration\";\"campaign\";\"pdays\";\"previous\";\"poutcome\";\"y\"\r\n",
      "58;\"management\";\"married\";\"tertiary\";\"no\";2143;\"yes\";\"no\";\"unknown\";5;\"may\";261;1;-1;0;\"unknown\";\"no\"\r\n",
      "44;\"technician\";\"single\";\"secondary\";\"no\";29;\"yes\";\"no\";\"unknown\";5;\"may\";151;1;-1;0;\"unknown\";\"no\"\r\n",
      "33;\"entrepreneur\";\"married\";\"secondary\";\"no\";2;\"yes\";\"yes\";\"unknown\";5;\"may\";76;1;-1;0;\"unknown\";\"no\"\r\n",
      "47;\"blue-collar\";\"married\";\"unknown\";\"no\";1506;\"yes\";\"no\";\"unknown\";5;\"may\";92;1;-1;0;\"unknown\";\"no\"\r\n",
      "33;\"unknown\";\"single\";\"unknown\";\"no\";1;\"no\";\"no\";\"unknown\";5;\"may\";198;1;-1;0;\"unknown\";\"no\"\r\n",
      "35;\"management\";\"married\";\"tertiary\";\"no\";231;\"yes\";\"no\";\"unknown\";5;\"may\";139;1;-1;0;\"unknown\";\"no\"\r\n",
      "28;\"management\";\"single\";\"tertiary\";\"no\";447;\"yes\";\"yes\";\"unknown\";5;\"may\";217;1;-1;0;\"unknown\";\"no\"\r\n",
      "42;\"entrepreneur\";\"divorced\";\"tertiary\";\"yes\";2;\"yes\";\"no\";\"unknown\";5;\"may\";380;1;-1;0;\"unknown\";\"no\"\r\n",
      "58;\"retired\";\"married\";\"primary\";\"no\";121;\"yes\";\"no\";\"unknown\";5;\"may\";50;1;-1;0;\"unknown\";\"no\"\r\n"
     ]
    }
   ],
   "source": [
    "!head bank-full.csv"
   ]
  },
  {
   "cell_type": "code",
   "execution_count": 15,
   "metadata": {
    "collapsed": false
   },
   "outputs": [
    {
     "name": "stdout",
     "output_type": "stream",
     "text": [
      "\"age\";\"job\";\"marital\";\"education\";\"default\";\"balance\";\"housing\";\"loan\";\"contact\";\"day\";\"month\";\"duration\";\"campaign\";\"pdays\";\"previous\";\"poutcome\";\"y\"\r\n",
      "30;\"unemployed\";\"married\";\"primary\";\"no\";1787;\"no\";\"no\";\"cellular\";19;\"oct\";79;1;-1;0;\"unknown\";\"no\"\r\n",
      "33;\"services\";\"married\";\"secondary\";\"no\";4789;\"yes\";\"yes\";\"cellular\";11;\"may\";220;1;339;4;\"failure\";\"no\"\r\n",
      "35;\"management\";\"single\";\"tertiary\";\"no\";1350;\"yes\";\"no\";\"cellular\";16;\"apr\";185;1;330;1;\"failure\";\"no\"\r\n",
      "30;\"management\";\"married\";\"tertiary\";\"no\";1476;\"yes\";\"yes\";\"unknown\";3;\"jun\";199;4;-1;0;\"unknown\";\"no\"\r\n",
      "59;\"blue-collar\";\"married\";\"secondary\";\"no\";0;\"yes\";\"no\";\"unknown\";5;\"may\";226;1;-1;0;\"unknown\";\"no\"\r\n",
      "35;\"management\";\"single\";\"tertiary\";\"no\";747;\"no\";\"no\";\"cellular\";23;\"feb\";141;2;176;3;\"failure\";\"no\"\r\n",
      "36;\"self-employed\";\"married\";\"tertiary\";\"no\";307;\"yes\";\"no\";\"cellular\";14;\"may\";341;1;330;2;\"other\";\"no\"\r\n",
      "39;\"technician\";\"married\";\"secondary\";\"no\";147;\"yes\";\"no\";\"cellular\";6;\"may\";151;2;-1;0;\"unknown\";\"no\"\r\n",
      "41;\"entrepreneur\";\"married\";\"tertiary\";\"no\";221;\"yes\";\"no\";\"unknown\";14;\"may\";57;2;-1;0;\"unknown\";\"no\"\r\n"
     ]
    }
   ],
   "source": [
    "!head bank.csv"
   ]
  },
  {
   "cell_type": "code",
   "execution_count": 23,
   "metadata": {
    "collapsed": true
   },
   "outputs": [],
   "source": [
    "from sklearn.datasets import load_breast_cancer, load_digits"
   ]
  },
  {
   "cell_type": "code",
   "execution_count": 26,
   "metadata": {
    "collapsed": true
   },
   "outputs": [],
   "source": [
    "dataset = load_breast_cancer()\n",
    "X = dataset.data\n",
    "y = dataset.target"
   ]
  },
  {
   "cell_type": "code",
   "execution_count": 29,
   "metadata": {
    "collapsed": true
   },
   "outputs": [],
   "source": [
    "dataset2 = load_digits()\n",
    "X = dataset2.data\n",
    "y = dataset2.target"
   ]
  },
  {
   "cell_type": "code",
   "execution_count": 17,
   "metadata": {
    "collapsed": false
   },
   "outputs": [],
   "source": [
    "from sklearn.cross_validation import cross_val_score\n",
    "from sklearn.naive_bayes import GaussianNB, BernoulliNB, MultinomialNB"
   ]
  },
  {
   "cell_type": "code",
   "execution_count": 18,
   "metadata": {
    "collapsed": true
   },
   "outputs": [],
   "source": [
    "gauNB = GaussianNB()\n",
    "berNB = BernoulliNB()\n",
    "mulNB = MultinomialNB()"
   ]
  },
  {
   "cell_type": "code",
   "execution_count": 25,
   "metadata": {
    "collapsed": false
   },
   "outputs": [
    {
     "name": "stdout",
     "output_type": "stream",
     "text": [
      "0.936749280609 0.627420402859 0.894579040193\n"
     ]
    }
   ],
   "source": [
    "print cross_val_score(gauNB, X, y).mean(), cross_val_score(berNB, X, y).mean(), cross_val_score(mulNB, X, y).mean()"
   ]
  },
  {
   "cell_type": "code",
   "execution_count": 30,
   "metadata": {
    "collapsed": false
   },
   "outputs": [
    {
     "name": "stdout",
     "output_type": "stream",
     "text": [
      "0.818600380355 0.825823650778 0.870877148974\n"
     ]
    }
   ],
   "source": [
    "print cross_val_score(gauNB, X, y).mean(), cross_val_score(berNB, X, y).mean(), cross_val_score(mulNB, X, y).mean()"
   ]
  },
  {
   "cell_type": "code",
   "execution_count": 4,
   "metadata": {
    "collapsed": false
   },
   "outputs": [
    {
     "name": "stdout",
     "output_type": "stream",
     "text": [
      "  % Total    % Received % Xferd  Average Speed   Time    Time     Time  Current\n",
      "                                 Dload  Upload   Total   Spent    Left  Speed\n",
      "100  327k  100  327k    0     0  69777      0  0:00:04  0:00:04 --:--:-- 93201\n"
     ]
    }
   ],
   "source": [
    "!curl http://archive.ics.uci.edu/ml/machine-learning-databases/00357/occupancy_data.zip > occup.zip"
   ]
  },
  {
   "cell_type": "code",
   "execution_count": 5,
   "metadata": {
    "collapsed": false
   },
   "outputs": [
    {
     "name": "stdout",
     "output_type": "stream",
     "text": [
      "Archive:  occup.zip\n",
      "  inflating: datatest.txt            \n",
      "  inflating: datatest2.txt           \n",
      "  inflating: datatraining.txt        \n"
     ]
    }
   ],
   "source": [
    "!unzip occup.zip"
   ]
  },
  {
   "cell_type": "code",
   "execution_count": 7,
   "metadata": {
    "collapsed": false
   },
   "outputs": [
    {
     "name": "stdout",
     "output_type": "stream",
     "text": [
      "\"date\",\"Temperature\",\"Humidity\",\"Light\",\"CO2\",\"HumidityRatio\",\"Occupancy\"\r\n",
      "\"1\",\"2015-02-04 17:51:00\",23.18,27.272,426,721.25,0.00479298817650529,1\r\n",
      "\"2\",\"2015-02-04 17:51:59\",23.15,27.2675,429.5,714,0.00478344094931065,1\r\n",
      "\"3\",\"2015-02-04 17:53:00\",23.15,27.245,426,713.5,0.00477946352442199,1\r\n",
      "\"4\",\"2015-02-04 17:54:00\",23.15,27.2,426,708.25,0.00477150882608175,1\r\n",
      "\"5\",\"2015-02-04 17:55:00\",23.1,27.2,426,704.5,0.00475699293331518,1\r\n",
      "\"6\",\"2015-02-04 17:55:59\",23.1,27.2,419,701,0.00475699293331518,1\r\n",
      "\"7\",\"2015-02-04 17:57:00\",23.1,27.2,419,701.666666666667,0.00475699293331518,1\r\n",
      "\"8\",\"2015-02-04 17:57:59\",23.1,27.2,419,699,0.00475699293331518,1\r\n",
      "\"9\",\"2015-02-04 17:58:59\",23.1,27.2,419,689.333333333333,0.00475699293331518,1\r\n"
     ]
    }
   ],
   "source": [
    "!head datatraining.txt"
   ]
  },
  {
   "cell_type": "code",
   "execution_count": 8,
   "metadata": {
    "collapsed": true
   },
   "outputs": [],
   "source": [
    "import pandas as pd"
   ]
  },
  {
   "cell_type": "code",
   "execution_count": 9,
   "metadata": {
    "collapsed": true
   },
   "outputs": [],
   "source": [
    "dataframe = pd.read_csv('datatraining.txt')"
   ]
  },
  {
   "cell_type": "code",
   "execution_count": 11,
   "metadata": {
    "collapsed": false
   },
   "outputs": [],
   "source": [
    "dataframe = dataframe.drop('date', axis = 1)"
   ]
  },
  {
   "cell_type": "code",
   "execution_count": 13,
   "metadata": {
    "collapsed": false
   },
   "outputs": [],
   "source": [
    "y = dataframe['Occupancy']"
   ]
  },
  {
   "cell_type": "code",
   "execution_count": 14,
   "metadata": {
    "collapsed": true
   },
   "outputs": [],
   "source": [
    "X = dataframe.drop('Occupancy', axis = 1)"
   ]
  },
  {
   "cell_type": "code",
   "execution_count": 19,
   "metadata": {
    "collapsed": false
   },
   "outputs": [
    {
     "name": "stdout",
     "output_type": "stream",
     "text": [
      "0.965368484719 0.845989623411 0.929136645898\n"
     ]
    }
   ],
   "source": [
    "print cross_val_score(gauNB, X, y).mean(), cross_val_score(berNB, X, y).mean(), cross_val_score(mulNB, X, y).mean()"
   ]
  }
 ],
 "metadata": {
  "kernelspec": {
   "display_name": "Python 2",
   "language": "python",
   "name": "python2"
  },
  "language_info": {
   "codemirror_mode": {
    "name": "ipython",
    "version": 2
   },
   "file_extension": ".py",
   "mimetype": "text/x-python",
   "name": "python",
   "nbconvert_exporter": "python",
   "pygments_lexer": "ipython2",
   "version": "2.7.10"
  }
 },
 "nbformat": 4,
 "nbformat_minor": 0
}
