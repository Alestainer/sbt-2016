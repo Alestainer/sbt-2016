{
 "cells": [
  {
   "cell_type": "code",
   "execution_count": 1,
   "metadata": {
    "collapsed": true
   },
   "outputs": [],
   "source": [
    "import pandas as pd"
   ]
  },
  {
   "cell_type": "code",
   "execution_count": 2,
   "metadata": {
    "collapsed": false
   },
   "outputs": [],
   "source": [
    "data = pd.read_csv('Skin_NonSkin.txt', delimiter='\\t', header=None)"
   ]
  },
  {
   "cell_type": "code",
   "execution_count": 3,
   "metadata": {
    "collapsed": false
   },
   "outputs": [],
   "source": [
    "target = data[3]"
   ]
  },
  {
   "cell_type": "code",
   "execution_count": 4,
   "metadata": {
    "collapsed": false
   },
   "outputs": [],
   "source": [
    "features = data.drop(3, axis = 1)\n",
    "less_features = features"
   ]
  },
  {
   "cell_type": "code",
   "execution_count": 5,
   "metadata": {
    "collapsed": false
   },
   "outputs": [],
   "source": [
    "cols = features.columns\n",
    "have = set()\n",
    "for col1 in cols:\n",
    "    for col2 in cols:\n",
    "        if col1 != col2 and (col2, col1) not in have:\n",
    "            features[\"mult '{0}' and '{1}'\".format(col1, col2)] = features[col1].multiply(features[col2], axis = 'index')\n",
    "            features[\"diff '{0}' and '{1}'\".format(col1, col2)] = features[col1].subtract(features[col2], axis = 'index')\n",
    "            have.add((col1, col2))"
   ]
  },
  {
   "cell_type": "code",
   "execution_count": 6,
   "metadata": {
    "collapsed": false
   },
   "outputs": [],
   "source": [
    "from sklearn.neighbors import KNeighborsClassifier as KNN\n",
    "from sklearn.linear_model import LogisticRegression as LR\n",
    "from sklearn.ensemble import RandomForestClassifier as RF\n",
    "from sklearn.cross_validation import cross_val_score as CV"
   ]
  },
  {
   "cell_type": "code",
   "execution_count": 10,
   "metadata": {
    "collapsed": false
   },
   "outputs": [
    {
     "name": "stdout",
     "output_type": "stream",
     "text": [
      "0.969178696811 KNN with less features\n",
      "0.969178696811 KNN with all features\n",
      "\n",
      "0.901361855605 LR with less features\n",
      "0.901361855605 LR with all features\n",
      "\n",
      "0.975989332044 RF with less features\n",
      "0.975817946294 RF with all features\n",
      "\n"
     ]
    }
   ],
   "source": [
    "print CV(KNN(), less_features, target).mean(), 'KNN with less features'\n",
    "print CV(KNN(), features, target).mean(), 'KNN with all features\\n'\n",
    "\n",
    "print CV(LR(), less_features, target).mean(), 'LR with less features'\n",
    "print CV(LR(), features, target).mean(), 'LR with all features\\n'\n",
    "\n",
    "print CV(RF(), less_features, target).mean(), 'RF with less features'\n",
    "print CV(RF(), features, target).mean(), 'RF with all features\\n'"
   ]
  },
  {
   "cell_type": "code",
   "execution_count": null,
   "metadata": {
    "collapsed": false
   },
   "outputs": [],
   "source": []
  }
 ],
 "metadata": {
  "kernelspec": {
   "display_name": "Python 2",
   "language": "python",
   "name": "python2"
  },
  "language_info": {
   "codemirror_mode": {
    "name": "ipython",
    "version": 2
   },
   "file_extension": ".py",
   "mimetype": "text/x-python",
   "name": "python",
   "nbconvert_exporter": "python",
   "pygments_lexer": "ipython2",
   "version": "2.7.11"
  }
 },
 "nbformat": 4,
 "nbformat_minor": 0
}
