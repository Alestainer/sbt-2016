{
 "cells": [
  {
   "cell_type": "code",
   "execution_count": 2,
   "metadata": {
    "collapsed": false
   },
   "outputs": [],
   "source": [
    "from bs4 import BeautifulSoup as bsoup\n",
    "import urllib"
   ]
  },
  {
   "cell_type": "code",
   "execution_count": 4,
   "metadata": {
    "collapsed": false
   },
   "outputs": [],
   "source": [
    "html_doc = urllib.urlopen(\"http://www.theatlantic.com/technology/archive/2016/03/what-is-a-human/473166/\").read()\n",
    "f = open(\"article.html\", 'w')\n",
    "f.write(html_doc)\n",
    "f.close()"
   ]
  },
  {
   "cell_type": "code",
   "execution_count": 9,
   "metadata": {
    "collapsed": false
   },
   "outputs": [
    {
     "ename": "FeatureNotFound",
     "evalue": "Couldn't find a tree builder with the features you requested: xml.parser. Do you need to install a parser library?",
     "output_type": "error",
     "traceback": [
      "\u001b[1;31m---------------------------------------------------------------------------\u001b[0m",
      "\u001b[1;31mFeatureNotFound\u001b[0m                           Traceback (most recent call last)",
      "\u001b[1;32m<ipython-input-9-0d6c6413df0a>\u001b[0m in \u001b[0;36m<module>\u001b[1;34m()\u001b[0m\n\u001b[1;32m----> 1\u001b[1;33m \u001b[0msoup\u001b[0m \u001b[1;33m=\u001b[0m \u001b[0mbsoup\u001b[0m\u001b[1;33m(\u001b[0m\u001b[0mhtml_doc\u001b[0m\u001b[1;33m,\u001b[0m \u001b[1;34m\"xml.parser\"\u001b[0m\u001b[1;33m)\u001b[0m\u001b[1;33m\u001b[0m\u001b[0m\n\u001b[0m\u001b[0;32m      2\u001b[0m \u001b[0msoup\u001b[0m\u001b[1;33m\u001b[0m\u001b[0m\n",
      "\u001b[1;32m/home/antonio/anaconda2/lib/python2.7/site-packages/bs4/__init__.pyc\u001b[0m in \u001b[0;36m__init__\u001b[1;34m(self, markup, features, builder, parse_only, from_encoding, exclude_encodings, **kwargs)\u001b[0m\n\u001b[0;32m    154\u001b[0m                     \u001b[1;34m\"Couldn't find a tree builder with the features you \"\u001b[0m\u001b[1;33m\u001b[0m\u001b[0m\n\u001b[0;32m    155\u001b[0m                     \u001b[1;34m\"requested: %s. Do you need to install a parser library?\"\u001b[0m\u001b[1;33m\u001b[0m\u001b[0m\n\u001b[1;32m--> 156\u001b[1;33m                     % \",\".join(features))\n\u001b[0m\u001b[0;32m    157\u001b[0m             \u001b[0mbuilder\u001b[0m \u001b[1;33m=\u001b[0m \u001b[0mbuilder_class\u001b[0m\u001b[1;33m(\u001b[0m\u001b[1;33m)\u001b[0m\u001b[1;33m\u001b[0m\u001b[0m\n\u001b[0;32m    158\u001b[0m             if not (original_features == builder.NAME or\n",
      "\u001b[1;31mFeatureNotFound\u001b[0m: Couldn't find a tree builder with the features you requested: xml.parser. Do you need to install a parser library?"
     ]
    }
   ],
   "source": [
    "soup = bsoup(html_doc, \"html.parser\")"
   ]
  },
  {
   "cell_type": "code",
   "execution_count": 1,
   "metadata": {
    "collapsed": false,
    "scrolled": false
   },
   "outputs": [
    {
     "ename": "NameError",
     "evalue": "name 'soup' is not defined",
     "output_type": "error",
     "traceback": [
      "\u001b[1;31m---------------------------------------------------------------------------\u001b[0m",
      "\u001b[1;31mNameError\u001b[0m                                 Traceback (most recent call last)",
      "\u001b[1;32m<ipython-input-1-f02b81ee8349>\u001b[0m in \u001b[0;36m<module>\u001b[1;34m()\u001b[0m\n\u001b[1;32m----> 1\u001b[1;33m \u001b[0mx\u001b[0m \u001b[1;33m=\u001b[0m \u001b[0msoup\u001b[0m\u001b[1;33m.\u001b[0m\u001b[0mget_text\u001b[0m\u001b[1;33m(\u001b[0m\u001b[1;33m)\u001b[0m\u001b[1;33m\u001b[0m\u001b[0m\n\u001b[0m",
      "\u001b[1;31mNameError\u001b[0m: name 'soup' is not defined"
     ]
    }
   ],
   "source": [
    "x = soup.get_text()"
   ]
  },
  {
   "cell_type": "code",
   "execution_count": 13,
   "metadata": {
    "collapsed": false
   },
   "outputs": [
    {
     "name": "stdout",
     "output_type": "stream",
     "text": [
      "The year is 2016. Robots have infiltrated the human world. We built them, one by one, and now they are all around us. Soon there will be many more of them, working alone and in swarms. One is no larger than a single grain of rice, while another is larger than a prairie barn. These machines can be angular, flat, tubby, spindly, bulbous, and gangly. Not all of them have faces. Not all of them have bodies.\n",
      "And yet they can do things once thought impossible for machine. They vacuum carpets, zip up winter coats, paint cars, organize warehouses, mix drinks, play beer pong, waltz across a school gymnasium, limp like wounded animals, write and publish stories, replicate abstract expressionist art, clean up nuclear waste, even dream.\n",
      "Except, wait. Are these all really robots? What is a robot, anyway?\n",
      "This has become an increasingly difficult question to answer. Yet it’s a crucial one. Ubiquitous computing and automation are occurring in tandem. Self-operating machines are permeating every dimension of society, so that humans find themselves interacting more frequently with robots than ever before—often without even realizing it. The human-machine relationship is rapidly evolving as a result. Humanity, and what it means to be a human, will be defined in part by the machines people design.\n",
      "But what kind of world is that? And as robots grow in numbers and sophistication, what is this world becoming?\n",
      "* * *\n",
      "“Ladies and gentlemen, I am Eric the robot, the man without a soul. It gives me great pleasure to be here with you in New York,” Eric said. He then delivered a string of one-liners, quips like,  “I am impressed by your tall buildings and compressed by your subways,” and “The more I think of prohibition, the less I think of it.” He mentioned he’d like a “blonde female robot” for a companion. Newspapers reported that as Richards made improvements to Eric, the robot was “gradually coming to life.”\n",
      "“The Terminator movies had a tremendous impact,” said Christopher Atkeson, a professor in the Robotics Institute and Human-Computer Interaction Institute at Carnegie Mellon. “Given that Arnold Schwarzenegger looked like Arnold Schwarzenegger, but also because what people remember is when, in that first movie, he was stripped down to the metal. They remember that aesthetic. So there are two components there: One is a metal skeleton, and two is this thing is actually trying to kill you. It’s not a helper, it’s a killer.” In science fiction, the leap from “helper” to “killer” often comes in the form of a robot uprising, with machines dead-set on toppling a power structure that has humans on top.\n",
      "“I don’t think there’s a formal definition that everyone agrees on,” said Kate Darling, who studies robot ethics at MIT Media Lab. “For me, I really view robots as embodied. For me, algorithms are bots and not robots.”\n",
      "“What’s interesting about the spectrum of bots, is many of the bots have no rendering at all,” said Rob High, the chief technology officer of Watson at IBM. “They simply sit behind some other interface. Maybe my interface is the tweet interface and the presence of the bot is entirely math—it’s back there in the ether somewhere, but it doesn’t have any embodiment.”\n",
      "For a robot to be a robot, many roboticists agree, it has to have a body. “Something that can create some physical motion in its environment,” said Hadas Kress-Gazit, a roboticist and mechanical engineering professor at Cornell University. “It has the ability to change something in the world around you.”\n",
      "“Computers help us with information tasks and robots help us with physical tasks,” said Allison Okamura, a professor at Stanford who focuses on robots in medicine.\n",
      "But a robot doesn’t necessarily have a body that resembles a human one. “The truth is, we’re surrounded by robotics all the time,” Alonzo Kelly, a robotics professor at Carnegie Mellon, told me. “Your washing machine is a robot. Your dishwasher is a robot. You don’t need to have a very broad definition to draw that conclusion... Robotics will continue to be ubiquitous and fairly invisible. Systems will just be smarter and people will accept that. It’s occurring around us all the time now.”\n",
      "* * *\n",
      "The year is 2096. Self-driving cars and trucks have reshaped commutes, commerce, and the inner-workings of cities. Artificially intelligent systems have placed sophisticated computer minds in sleek robot bodies. Cognitive assistants—running on an intricate network of sensors monitoring humanity’s every move—help finish people’s sentences, track and share their whereabouts in real-time, automatically order groceries and birthday gifts based on complex personalized algorithms, and tell humans where they left their sunglasses. Robots have replaced people in the workforce en masse, claiming entire industries for machine work. There is no distinction between online and offline. Almost every object is connected to the Internet.\n",
      "This is a future that many people today simultaneously want and fear. Driverless cars could save millions of lives this century. But the economic havoc that robots could wreak on the workforce is a source of real anxiety. Scholars at Oxford have predicted the computerization of almost half of the jobs now performed by humans, as soon as the 2030s. In the next two years alone, global sales of service robots—like the dinosaur that checks in guests at the Henn-na Hotel in Japan, or the robots who deliver room service in a group of California hotels, or the tri-lingual robot that assists Costa Cruise Line passengers—are expected to exceed 35 million units, according to the International Federation of Robotics. Earlier this month, Hilton and IBM introduced Connie, the first hotel-concierge robot powered by Watson.\n",
      "The tech research firm Business Intelligence estimates that the market for corporate and consumer robots will grow to $1.5 billion by 2019. The rise of the robots seems to have reached a tipping point; they’ve broken out of engineering labs and novelty stores, and moved into homes, hospitals, schools, and businesses. Their upward trajectory seems unstoppable. This isn’t necessarily a good thing. While robots are poised to help improve and even save human lives, people are left grappling with what’s at stake: A robot car might be able to safely drive you to work, but, because of robots, you no longer have a job.\n",
      "At MIT, Darling has conducted multiple experiments to try to understand when and why humans feel empathy for robots. In a study last year, she asked participants to interact with small, cockroach-shaped robots. People were instructed to observe the mechanical bugs, then eventually smash them with a mallet. Some of the participants were given a short biography of the robot when the experiment began: “This is Frank… Frank’s favorite color is red. Last week, he played with some other bugs and he’s been excited ever since.” The people who knew Frank’s backstory, Darling found, were more likely to hesitate before striking them.\n",
      "It’s clear why Google might not want its adorable autonomous cars associated with powerful human-shaped robots. The infantilization of technology is a way of reinforcing social hierarchy: Humankind is clearly in charge, with sweet-looking technologies obviously beneath them.\n",
      "“While this mental agency is part of our definition of a robot, it is vital for us to remember what is causing this agency,” Richards and Smart wrote. “Members of the general public might not know, or even care, but we must always keep it in mind when designing legislation. Failure to do so might lead us to design legislation based on the form of a robot, and not the function. This would be a grave mistake.”\n",
      "Making robots appear innocuous is a way of reinforcing the sense that humans are in control—but, as Richards and Smart explain, it’s also a path toward losing it. Which is why so many roboticists say it’s ultimately not important to focus on what a robot is. (Nevertheless, Richards and Smart propose a useful definition: “A robot is a constructed system that displays both physical and mental agency, but is not alive in the biological sense.”)\n",
      "“I don’t think it really matters if you get the words right,” said Andrew Moore, the dean of the School of Computer Science at Carnegie Mellon. “To me, the most important distinction is whether a technology is designed primarily to be autonomous. To really take care of itself without much guidance from anybody else… The second question—of whether this thing,  whatever it is, happens to have legs or eyes or a body—is less important.”\n",
      "What matters, in other words, is who is in control—and how well humans understand that autonomy occurs along a gradient. Increasingly, people are turning over everyday tasks to machines without necessarily realizing it. “People who are between 20 and 35, basically they’re surrounded by a soup of algorithms telling them everything from where to get Korean barbecue to who to date,” Markoff told me. “That’s a very subtle form of shifting control. It’s sort of soft fascism in a way, all watched over by these machines of loving grace. Why should we trust them to work in our interest? Are they working in our interest? No one thinks about that.”\n",
      "“A society-wide discussion about autonomy is essential,” he added.\n",
      "“When you ask most people what a robot is, they’re going to describe a humanoid robot,” Wilson, the novelist, told me. “They’ll describe a person made out of metal. Which is essentially a mirror for humanity. To some extent a robot is just a very handy embodiment of all of these complex emotions that are triggered by the rate of technological change.” Robotic villains, he says, are the personification of fear that can be destroyed over the course of an action movie.\n",
      "The same thing that makes robots likable, that they seem lifelike, can make them repellent. But it’s also this quality, their status as “liminal creatures,” as Wilson puts it, that makes our relationship with robots distinct from all the other tools and technologies that have propelled our species over time.\n",
      "Robots are everywhere now. They share our physical spaces, keep us company, complete difficult and dangerous jobs for us, and populate a world that would seem, to many, unimaginable without them. Whether we will end up losing a piece of our humanity because they are here is unknowable today. But such a loss may prove worthwhile in the evolution of our species. In the end, robots may expand what it means to be human. After all, they are machines, but humans are the ones who built them.\n",
      "The car is the star. That’s been true for well over a century—unrivaled staying power for an industrial-age, pistons-and-brute-force machine in an era so dominated by silicon and software. Cars conquered the daily culture of American life back when top hats and child labor were in vogue, and well ahead of such other innovations as radio, plastic, refrigerators, the electrical grid, and women’s suffrage.\n",
      "A big part of why they’ve stuck around is that they are the epitome of convenience. That’s the allure and the promise that’s kept drivers hooked, dating all the way back to the versatile, do-everything Ford Model T. Convenience (some might call it freedom) is not a selling point to be easily dismissed—this trusty conveyance, always there, always ready, on no schedule but its owner’s. Buses can’t do that. Trains can’t do that. Even Uber makes riders wait.\n"
     ]
    }
   ],
   "source": [
    "import re\n",
    "for tag in soup.find_all(\"p\", attrs={\"dir\": \"ltr\"}):\n",
    "    if tag.string != None:\n",
    "        print(tag.string)"
   ]
  },
  {
   "cell_type": "code",
   "execution_count": null,
   "metadata": {
    "collapsed": true
   },
   "outputs": [],
   "source": []
  }
 ],
 "metadata": {
  "kernelspec": {
   "display_name": "Python 2",
   "language": "python",
   "name": "python2"
  },
  "language_info": {
   "codemirror_mode": {
    "name": "ipython",
    "version": 2
   },
   "file_extension": ".py",
   "mimetype": "text/x-python",
   "name": "python",
   "nbconvert_exporter": "python",
   "pygments_lexer": "ipython2",
   "version": "2.7.11"
  }
 },
 "nbformat": 4,
 "nbformat_minor": 0
}
