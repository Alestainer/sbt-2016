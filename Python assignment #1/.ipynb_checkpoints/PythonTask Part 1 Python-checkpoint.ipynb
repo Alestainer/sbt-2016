{
 "cells": [
  {
   "cell_type": "markdown",
   "metadata": {},
   "source": [
    "List - mutable, cannot be the key.\n",
    "Tuple - immutable, can be the key."
   ]
  },
  {
   "cell_type": "code",
   "execution_count": 46,
   "metadata": {
    "collapsed": true
   },
   "outputs": [],
   "source": [
    "def timer(f):\n",
    "    import time\n",
    "    def tmp(*args, **kwargs):\n",
    "        t = time.time()\n",
    "        res = f(*args, **kwargs)\n",
    "        print \"Time spent: %f\" %(time.time() - t)\n",
    "        return res\n",
    "    \n",
    "    return tmp\n",
    "\n",
    "def memoize(f):\n",
    "    memo = {}\n",
    "    def helper(x):\n",
    "        if x not in memo:            \n",
    "            memo[x] = f(x)\n",
    "        return memo[x]\n",
    "    return helper"
   ]
  },
  {
   "cell_type": "code",
   "execution_count": 47,
   "metadata": {
    "collapsed": false
   },
   "outputs": [],
   "source": [
    "@timer\n",
    "@memoize\n",
    "def fibonacci(n):\n",
    "    if n == 0: return 1\n",
    "    elif n == 1: return 1\n",
    "    else: return fibonacci(n-1) + fibonacci(n-2)"
   ]
  },
  {
   "cell_type": "code",
   "execution_count": 48,
   "metadata": {
    "collapsed": false
   },
   "outputs": [
    {
     "name": "stdout",
     "output_type": "stream",
     "text": [
      "Time spent: 0.000003\n",
      "Time spent: 0.000003\n",
      "Time spent: 0.000126\n",
      "Time spent: 0.000002\n",
      "Time spent: 0.000209\n",
      "Time spent: 0.000005\n",
      "Time spent: 0.000278\n",
      "Time spent: 0.000001\n",
      "Time spent: 0.000357\n",
      "Time spent: 0.000001\n",
      "Time spent: 0.000442\n",
      "Time spent: 0.000002\n",
      "Time spent: 0.000528\n",
      "Time spent: 0.000002\n",
      "Time spent: 0.000622\n",
      "Time spent: 0.000002\n",
      "Time spent: 0.000705\n",
      "Time spent: 0.000002\n",
      "Time spent: 0.000793\n",
      "Time spent: 0.000001\n",
      "Time spent: 0.000885\n",
      "Time spent: 0.000002\n",
      "Time spent: 0.000984\n",
      "233\n"
     ]
    }
   ],
   "source": [
    "print fibonacci(12)"
   ]
  },
  {
   "cell_type": "markdown",
   "metadata": {},
   "source": [
    "You can change the maximum recursion depth with sys.setrecursionlimit"
   ]
  },
  {
   "cell_type": "code",
   "execution_count": 35,
   "metadata": {
    "collapsed": false
   },
   "outputs": [
    {
     "name": "stdout",
     "output_type": "stream",
     "text": [
      "1\n",
      "1\n",
      "2\n",
      "3\n",
      "5\n",
      "8\n",
      "13\n",
      "21\n",
      "34\n",
      "55\n",
      "89\n",
      "144\n",
      "233\n",
      "377\n",
      "610\n",
      "987\n",
      "1597\n",
      "2584\n",
      "4181\n",
      "6765\n"
     ]
    }
   ],
   "source": [
    "import time\n",
    "times = []\n",
    "for n in range(20):\n",
    "    start = time.time()\n",
    "    print fibonacci(n)\n",
    "    end = time.time()\n",
    "    times.append(end-start)"
   ]
  },
  {
   "cell_type": "code",
   "execution_count": 36,
   "metadata": {
    "collapsed": true
   },
   "outputs": [],
   "source": [
    "%matplotlib inline\n",
    "import matplotlib.pyplot as plt"
   ]
  },
  {
   "cell_type": "code",
   "execution_count": 37,
   "metadata": {
    "collapsed": false
   },
   "outputs": [
    {
     "data": {
      "text/plain": [
       "[<matplotlib.lines.Line2D at 0x7f6170c29bd0>]"
      ]
     },
     "execution_count": 37,
     "metadata": {},
     "output_type": "execute_result"
    },
    {
     "data": {
      "image/png": "[encoded data removed]",
      "text/plain": [
       "<matplotlib.figure.Figure at 0x7f617103cc10>"
      ]
     },
     "metadata": {},
     "output_type": "display_data"
    }
   ],
   "source": [
    "plt.plot(times)"
   ]
  },
  {
   "cell_type": "code",
   "execution_count": 22,
   "metadata": {
    "collapsed": false
   },
   "outputs": [
    {
     "name": "stdout",
     "output_type": "stream",
     "text": [
      "Trying:\n",
      "    abs_arg(2,3)\n",
      "Expecting:\n",
      "    (3.605551275463989, 0.982793723247329)\n",
      "ok\n",
      "3 items had no tests:\n",
      "    __main__\n",
      "    __main__._test\n",
      "    __main__.fibonacci\n",
      "1 items passed all tests:\n",
      "   1 tests in __main__.abs_arg\n",
      "1 tests in 4 items.\n",
      "1 passed and 0 failed.\n",
      "Test passed.\n"
     ]
    }
   ],
   "source": [
    "from math import sqrt, atan\n",
    "\n",
    "def abs_arg(re, im):\n",
    "    \"\"\"\n",
    "    Return length and angle of the vector of given coordinates.\n",
    "    \n",
    "    Example:\n",
    "    \n",
    "    >>> abs_arg(2,3)\n",
    "    (3.605551275463989, 0.982793723247329)\n",
    "    \"\"\"\n",
    "    return sqrt(re ** 2 + im ** 2) , atan(im / float(re))\n",
    "\n",
    "def _test():\n",
    "    import doctest\n",
    "    doctest.testmod(verbose = True)\n",
    "\n",
    "if __name__ == \"__main__\":\n",
    "    _test()"
   ]
  },
  {
   "cell_type": "code",
   "execution_count": 16,
   "metadata": {
    "collapsed": false
   },
   "outputs": [
    {
     "name": "stdout",
     "output_type": "stream",
     "text": [
      "(3.605551275463989, 0.982793723247329) <type 'tuple'>\n"
     ]
    }
   ],
   "source": [
    "x = abs_arg(2,3)\n",
    "print x, type(x)"
   ]
  },
  {
   "cell_type": "code",
   "execution_count": 26,
   "metadata": {
    "collapsed": false
   },
   "outputs": [],
   "source": [
    "class complex_number():\n",
    "    def __init__(self,x,y):\n",
    "        self.re = x\n",
    "        self.im = y\n",
    "        \n",
    "    def __add__(self, other):\n",
    "        return complex_number(self.re+other.re, self.im+other.im)\n",
    "    \n",
    "    def __lt__(self, other):\n",
    "        \"\"\"Module comparison\"\"\"\n",
    "        return (self.re ** 2 + self.im ** 2) < (other.re ** 2 + other.im ** 2) \n",
    "\n",
    "    def ___le__(self, other):\n",
    "        \"\"\"Module comparison\"\"\"\n",
    "        return (self.re ** 2 + self.im ** 2) <= (other.re ** 2 + other.im ** 2)\n",
    "\n",
    "    def __eq__(self, other):\n",
    "        return self.re == other.re and self.im == other.im\n",
    "\n",
    "    def __ne__(self, other):\n",
    "        return self.re != other.re or self.im != other.im\n",
    "\n",
    "    def __gt__(self, other):\n",
    "        \"\"\"Module comparison\"\"\"\n",
    "        return (self.re ** 2 + self.im ** 2) > (other.re ** 2 + other.im ** 2)\n",
    "\n",
    "    def __ge__(self, other):\n",
    "        \"\"\"Module comparison\"\"\"\n",
    "        return (self.re ** 2 + self.im ** 2) >= (other.re ** 2 + other.im ** 2)"
   ]
  },
  {
   "cell_type": "code",
   "execution_count": null,
   "metadata": {
    "collapsed": true
   },
   "outputs": [],
   "source": []
  }
 ],
 "metadata": {
  "kernelspec": {
   "display_name": "Python 2",
   "language": "python",
   "name": "python2"
  },
  "language_info": {
   "codemirror_mode": {
    "name": "ipython",
    "version": 2
   },
   "file_extension": ".py",
   "mimetype": "text/x-python",
   "name": "python",
   "nbconvert_exporter": "python",
   "pygments_lexer": "ipython2",
   "version": "2.7.11"
  }
 },
 "nbformat": 4,
 "nbformat_minor": 0
}
