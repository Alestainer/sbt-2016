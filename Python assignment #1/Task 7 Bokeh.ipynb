{
 "cells": [
  {
   "cell_type": "code",
   "execution_count": 1,
   "metadata": {
    "collapsed": true
   },
   "outputs": [],
   "source": [
    "from bokeh.plotting import figure, output_notebook, show, vplot"
   ]
  },
  {
   "cell_type": "code",
   "execution_count": 2,
   "metadata": {
    "collapsed": false
   },
   "outputs": [
    {
     "data": {
      "text/html": [
       "\n",
       "    <div class=\"bk-banner\">\n",
       "        <a href=\"http://bokeh.pydata.org\" target=\"_blank\" class=\"bk-logo bk-logo-small bk-logo-notebook\"></a>\n",
       "        <span id=\"cd4c36aa-a1d0-445a-8279-7a1efd6896ca\">Loading BokehJS ...</span>\n",
       "    </div>"
      ]
     },
     "metadata": {},
     "output_type": "display_data"
    },
    {
     "data": {
      "application/javascript": [
       "\n",
       "(function(global) {\n",
       "  function now() {\n",
       "    return new Date();\n",
       "  }\n",
       "\n",
       "  if (typeof (window._bokeh_onload_callbacks) === \"undefined\") {\n",
       "    window._bokeh_onload_callbacks = [];\n",
       "  }\n",
       "\n",
       "  function run_callbacks() {\n",
       "    window._bokeh_onload_callbacks.forEach(function(callback) { callback() });\n",
       "    delete window._bokeh_onload_callbacks\n",
       "    console.info(\"Bokeh: all callbacks have finished\");\n",
       "  }\n",
       "\n",
       "  function load_libs(js_urls, callback) {\n",
       "    window._bokeh_onload_callbacks.push(callback);\n",
       "    if (window._bokeh_is_loading > 0) {\n",
       "      console.log(\"Bokeh: BokehJS is being loaded, scheduling callback at\", now());\n",
       "      return null;\n",
       "    }\n",
       "    if (js_urls == null || js_urls.length === 0) {\n",
       "      run_callbacks();\n",
       "      return null;\n",
       "    }\n",
       "    console.log(\"Bokeh: BokehJS not loaded, scheduling load and callback at\", now());\n",
       "    window._bokeh_is_loading = js_urls.length;\n",
       "    for (var i = 0; i < js_urls.length; i++) {\n",
       "      var url = js_urls[i];\n",
       "      var s = document.createElement('script');\n",
       "      s.src = url;\n",
       "      s.async = false;\n",
       "      s.onreadystatechange = s.onload = function() {\n",
       "        window._bokeh_is_loading--;\n",
       "        if (window._bokeh_is_loading === 0) {\n",
       "          console.log(\"Bokeh: all BokehJS libraries loaded\");\n",
       "          run_callbacks()\n",
       "        }\n",
       "      };\n",
       "      s.onerror = function() {\n",
       "        console.warn(\"failed to load library \" + url);\n",
       "      };\n",
       "      console.log(\"Bokeh: injecting script tag for BokehJS library: \", url);\n",
       "      document.getElementsByTagName(\"head\")[0].appendChild(s);\n",
       "    }\n",
       "  };\n",
       "\n",
       "  var js_urls = ['https://cdn.pydata.org/bokeh/release/bokeh-0.11.1.min.js', 'https://cdn.pydata.org/bokeh/release/bokeh-widgets-0.11.1.min.js', 'https://cdn.pydata.org/bokeh/release/bokeh-compiler-0.11.1.min.js'];\n",
       "\n",
       "  var inline_js = [\n",
       "    function(Bokeh) {\n",
       "      Bokeh.set_log_level(\"info\");\n",
       "    },\n",
       "    \n",
       "    function(Bokeh) {\n",
       "      Bokeh.$(\"#cd4c36aa-a1d0-445a-8279-7a1efd6896ca\").text(\"BokehJS successfully loaded\");\n",
       "    },\n",
       "    function(Bokeh) {\n",
       "      console.log(\"Bokeh: injecting CSS: https://cdn.pydata.org/bokeh/release/bokeh-0.11.1.min.css\");\n",
       "      Bokeh.embed.inject_css(\"https://cdn.pydata.org/bokeh/release/bokeh-0.11.1.min.css\");\n",
       "      console.log(\"Bokeh: injecting CSS: https://cdn.pydata.org/bokeh/release/bokeh-widgets-0.11.1.min.css\");\n",
       "      Bokeh.embed.inject_css(\"https://cdn.pydata.org/bokeh/release/bokeh-widgets-0.11.1.min.css\");\n",
       "    }\n",
       "  ];\n",
       "\n",
       "  function run_inline_js() {\n",
       "    for (var i = 0; i < inline_js.length; i++) {\n",
       "      inline_js[i](window.Bokeh);\n",
       "    }\n",
       "  }\n",
       "\n",
       "  if (window._bokeh_is_loading === 0) {\n",
       "    console.log(\"Bokeh: BokehJS loaded, going straight to plotting\");\n",
       "    run_inline_js();\n",
       "  } else {\n",
       "    load_libs(js_urls, function() {\n",
       "      console.log(\"Bokeh: BokehJS plotting callback run at\", now());\n",
       "      run_inline_js();\n",
       "    });\n",
       "  }\n",
       "}(this));"
      ]
     },
     "metadata": {},
     "output_type": "display_data"
    }
   ],
   "source": [
    "output_notebook()"
   ]
  },
  {
   "cell_type": "code",
   "execution_count": 3,
   "metadata": {
    "collapsed": true
   },
   "outputs": [],
   "source": [
    "from numpy import cos, linspace\n",
    "x = linspace(-6, 6, 100)\n",
    "y = cos(x)"
   ]
  },
  {
   "cell_type": "code",
   "execution_count": 5,
   "metadata": {
    "collapsed": false
   },
   "outputs": [
    {
     "data": {
      "text/html": [
       "\n",
       "\n",
       "    <div class=\"plotdiv\" id=\"38729e62-e609-4803-89c7-b1a217f1e2c0\"></div>\n",
       "<script type=\"text/javascript\">\n",
       "  \n",
       "  (function(global) {\n",
       "    function now() {\n",
       "      return new Date();\n",
       "    }\n",
       "  \n",
       "    if (typeof (window._bokeh_onload_callbacks) === \"undefined\") {\n",
       "      window._bokeh_onload_callbacks = [];\n",
       "    }\n",
       "  \n",
       "    function run_callbacks() {\n",
       "      window._bokeh_onload_callbacks.forEach(function(callback) { callback() });\n",
       "      delete window._bokeh_onload_callbacks\n",
       "      console.info(\"Bokeh: all callbacks have finished\");\n",
       "    }\n",
       "  \n",
       "    function load_libs(js_urls, callback) {\n",
       "      window._bokeh_onload_callbacks.push(callback);\n",
       "      if (window._bokeh_is_loading > 0) {\n",
       "        console.log(\"Bokeh: BokehJS is being loaded, scheduling callback at\", now());\n",
       "        return null;\n",
       "      }\n",
       "      if (js_urls == null || js_urls.length === 0) {\n",
       "        run_callbacks();\n",
       "        return null;\n",
       "      }\n",
       "      console.log(\"Bokeh: BokehJS not loaded, scheduling load and callback at\", now());\n",
       "      window._bokeh_is_loading = js_urls.length;\n",
       "      for (var i = 0; i < js_urls.length; i++) {\n",
       "        var url = js_urls[i];\n",
       "        var s = document.createElement('script');\n",
       "        s.src = url;\n",
       "        s.async = false;\n",
       "        s.onreadystatechange = s.onload = function() {\n",
       "          window._bokeh_is_loading--;\n",
       "          if (window._bokeh_is_loading === 0) {\n",
       "            console.log(\"Bokeh: all BokehJS libraries loaded\");\n",
       "            run_callbacks()\n",
       "          }\n",
       "        };\n",
       "        s.onerror = function() {\n",
       "          console.warn(\"failed to load library \" + url);\n",
       "        };\n",
       "        console.log(\"Bokeh: injecting script tag for BokehJS library: \", url);\n",
       "        document.getElementsByTagName(\"head\")[0].appendChild(s);\n",
       "      }\n",
       "    };var element = document.getElementById(\"38729e62-e609-4803-89c7-b1a217f1e2c0\");\n",
       "    if (element == null) {\n",
       "      console.log(\"Bokeh: ERROR: autoload.js configured with elementid '38729e62-e609-4803-89c7-b1a217f1e2c0' but no matching script tag was found. \")\n",
       "      return false;\n",
       "    }\n",
       "  \n",
       "    var js_urls = [];\n",
       "  \n",
       "    var inline_js = [\n",
       "      function(Bokeh) {\n",
       "        Bokeh.$(function() {\n",
       "            var docs_json = {\"36bbe471-98e1-4ac8-8393-00f423a6f0ec\":{\"roots\":{\"references\":[{\"attributes\":{\"callback\":null},\"id\":\"baad187d-c987-4c42-9df8-d7fe3c2513ae\",\"type\":\"DataRange1d\"},{\"attributes\":{\"plot\":{\"id\":\"39fca65d-ff07-4125-90b9-6bb85799c610\",\"subtype\":\"Figure\",\"type\":\"Plot\"},\"ticker\":{\"id\":\"3d778eea-cf8c-4fa3-bfc0-ca5e4b6a7839\",\"type\":\"BasicTicker\"}},\"id\":\"c515f6fb-54c8-4672-813a-a8d7038124ab\",\"type\":\"Grid\"},{\"attributes\":{\"plot\":{\"id\":\"e43d3fb8-09c0-4eda-a8ed-54c092f6c289\",\"subtype\":\"Figure\",\"type\":\"Plot\"}},\"id\":\"89d96053-be8f-4cae-8430-a86f93a32379\",\"type\":\"ResetTool\"},{\"attributes\":{},\"id\":\"ed892538-64a2-43b3-a38c-3663389be0c3\",\"type\":\"BasicTickFormatter\"},{\"attributes\":{\"plot\":{\"id\":\"e43d3fb8-09c0-4eda-a8ed-54c092f6c289\",\"subtype\":\"Figure\",\"type\":\"Plot\"}},\"id\":\"83c72de5-81c4-4583-b91b-45f44d22084c\",\"type\":\"ResizeTool\"},{\"attributes\":{\"plot\":{\"id\":\"39fca65d-ff07-4125-90b9-6bb85799c610\",\"subtype\":\"Figure\",\"type\":\"Plot\"}},\"id\":\"451810dd-d314-4bc2-bd25-c10605c5b32b\",\"type\":\"ResetTool\"},{\"attributes\":{\"overlay\":{\"id\":\"35bd8e08-fa44-491e-8311-61abc9b8cca2\",\"type\":\"BoxAnnotation\"},\"plot\":{\"id\":\"e43d3fb8-09c0-4eda-a8ed-54c092f6c289\",\"subtype\":\"Figure\",\"type\":\"Plot\"}},\"id\":\"a84d7bd3-ea11-4a04-af2d-bcffae8fc3b7\",\"type\":\"BoxZoomTool\"},{\"attributes\":{},\"id\":\"fbbf8540-79a6-4316-8481-ecb53b703912\",\"type\":\"BasicTicker\"},{\"attributes\":{\"formatter\":{\"id\":\"ed892538-64a2-43b3-a38c-3663389be0c3\",\"type\":\"BasicTickFormatter\"},\"plot\":{\"id\":\"e43d3fb8-09c0-4eda-a8ed-54c092f6c289\",\"subtype\":\"Figure\",\"type\":\"Plot\"},\"ticker\":{\"id\":\"a7d3a899-c549-4540-9177-1ec002f4165e\",\"type\":\"BasicTicker\"}},\"id\":\"0e256863-afc2-4f9f-9768-ffd6f277ad7e\",\"type\":\"LinearAxis\"},{\"attributes\":{\"plot\":{\"id\":\"e43d3fb8-09c0-4eda-a8ed-54c092f6c289\",\"subtype\":\"Figure\",\"type\":\"Plot\"}},\"id\":\"094b7084-8e59-4f88-8f20-739ff4dab445\",\"type\":\"PanTool\"},{\"attributes\":{},\"id\":\"153ada75-b52c-458f-83a9-1cc68a83af4e\",\"type\":\"BasicTickFormatter\"},{\"attributes\":{\"overlay\":{\"id\":\"f266426c-b067-48c4-84fe-bf147a281301\",\"type\":\"BoxAnnotation\"},\"plot\":{\"id\":\"39fca65d-ff07-4125-90b9-6bb85799c610\",\"subtype\":\"Figure\",\"type\":\"Plot\"}},\"id\":\"4135d810-4124-4052-9d22-8f50036fc198\",\"type\":\"BoxZoomTool\"},{\"attributes\":{},\"id\":\"f70d385d-3647-41b9-875d-f97b38b12039\",\"type\":\"BasicTickFormatter\"},{\"attributes\":{\"formatter\":{\"id\":\"153ada75-b52c-458f-83a9-1cc68a83af4e\",\"type\":\"BasicTickFormatter\"},\"plot\":{\"id\":\"e43d3fb8-09c0-4eda-a8ed-54c092f6c289\",\"subtype\":\"Figure\",\"type\":\"Plot\"},\"ticker\":{\"id\":\"b042f4ca-e191-4d53-a000-6888b91c1e5f\",\"type\":\"BasicTicker\"}},\"id\":\"42ffe725-4fc6-495e-ad49-757cf58b512e\",\"type\":\"LinearAxis\"},{\"attributes\":{\"callback\":null,\"column_names\":[\"x\",\"y\"],\"data\":{\"x\":[-6.0,-5.878787878787879,-5.757575757575758,-5.636363636363637,-5.515151515151516,-5.393939393939394,-5.2727272727272725,-5.151515151515151,-5.03030303030303,-4.909090909090909,-4.787878787878788,-4.666666666666666,-4.545454545454545,-4.424242424242424,-4.303030303030303,-4.181818181818182,-4.0606060606060606,-3.9393939393939394,-3.8181818181818183,-3.696969696969697,-3.5757575757575757,-3.4545454545454546,-3.333333333333333,-3.212121212121212,-3.090909090909091,-2.9696969696969697,-2.8484848484848486,-2.727272727272727,-2.606060606060606,-2.484848484848485,-2.3636363636363633,-2.242424242424242,-2.121212121212121,-2.0,-1.878787878787879,-1.7575757575757578,-1.6363636363636367,-1.5151515151515147,-1.3939393939393936,-1.2727272727272725,-1.1515151515151514,-1.0303030303030303,-0.9090909090909092,-0.7878787878787881,-0.6666666666666661,-0.545454545454545,-0.42424242424242387,-0.30303030303030276,-0.18181818181818166,-0.06060606060606055,0.06060606060606055,0.18181818181818166,0.30303030303030276,0.42424242424242475,0.5454545454545459,0.666666666666667,0.7878787878787881,0.9090909090909092,1.0303030303030303,1.1515151515151514,1.2727272727272734,1.3939393939393945,1.5151515151515156,1.6363636363636367,1.7575757575757578,1.878787878787879,2.0,2.121212121212121,2.242424242424242,2.3636363636363633,2.4848484848484844,2.6060606060606055,2.7272727272727266,2.8484848484848495,2.9696969696969706,3.0909090909090917,3.212121212121213,3.333333333333334,3.454545454545455,3.575757575757576,3.6969696969696972,3.8181818181818183,3.9393939393939394,4.0606060606060606,4.181818181818182,4.303030303030303,4.424242424242424,4.545454545454545,4.666666666666668,4.787878787878789,4.90909090909091,5.030303030303031,5.151515151515152,5.272727272727273,5.3939393939393945,5.515151515151516,5.636363636363637,5.757575757575758,5.878787878787879,6.0],\"y\":[0.960170286650366,0.9193396548099325,0.865018266697566,0.7980032559988883,0.7192780276732816,0.6299978270778193,0.5314727874367585,0.42514870442477243,0.3125858199853547,0.19543592671908872,0.07541812882111003,-0.04570638473858134,-0.16616018460355267,-0.2841756837372786,-0.39802107569934975,-0.5060257478629665,-0.6066047966500377,-0.69828228503756,-0.7797129010453654,-0.8497016993799634,-0.9072216365377284,-0.9514286420503495,-0.9816740047110791,-0.9975138920213652,-0.9987158631657161,-0.9852622799408088,-0.9573505655855105,-0.9153903077136358,-0.8599972478621625,-0.7919842458546638,-0.7123493515724919,-0.6222611591732922,-0.5230416586748752,-0.4161468365471424,-0.3031453099867001,-0.18569530840332882,-0.06552033990114371,0.05561610016580718,0.17593640742677327,0.2936749537688711,0.40710399686726717,0.5145590337642212,0.6144632264484673,0.7053505410042532,0.7858872607769484,0.854891557862458,0.9113508357206178,0.954436588420145,0.9835165584646712,0.9981640147910761,0.9981640147910761,0.9835165584646712,0.954436588420145,0.9113508357206175,0.8548915578624574,0.7858872607769478,0.7053505410042532,0.6144632264484673,0.5145590337642212,0.40710399686726717,0.29367495376887026,0.17593640742677238,0.055616100165806294,-0.06552033990114371,-0.18569530840332882,-0.3031453099867001,-0.4161468365471424,-0.5230416586748752,-0.6222611591732922,-0.7123493515724919,-0.7919842458546635,-0.8599972478621623,-0.9153903077136356,-0.9573505655855107,-0.9852622799408091,-0.9987158631657161,-0.9975138920213652,-0.9816740047110789,-0.9514286420503493,-0.9072216365377281,-0.8497016993799632,-0.7797129010453654,-0.69828228503756,-0.6066047966500377,-0.5060257478629665,-0.39802107569934975,-0.2841756837372786,-0.16616018460355267,-0.04570638473857956,0.07541812882111092,0.1954359267190896,0.3125858199853555,0.4251487044247732,0.5314727874367593,0.6299978270778199,0.7192780276732816,0.7980032559988883,0.865018266697566,0.9193396548099325,0.960170286650366]}},\"id\":\"346ca517-8725-47f3-b62c-310dfad8a5f5\",\"type\":\"ColumnDataSource\"},{\"attributes\":{\"formatter\":{\"id\":\"6eb631e2-8a2c-4f70-8b45-286e5be996a4\",\"type\":\"BasicTickFormatter\"},\"plot\":{\"id\":\"39fca65d-ff07-4125-90b9-6bb85799c610\",\"subtype\":\"Figure\",\"type\":\"Plot\"},\"ticker\":{\"id\":\"fbbf8540-79a6-4316-8481-ecb53b703912\",\"type\":\"BasicTicker\"}},\"id\":\"253af9c1-ef13-40a1-abac-d8c0ee5babb7\",\"type\":\"LinearAxis\"},{\"attributes\":{\"plot\":{\"id\":\"39fca65d-ff07-4125-90b9-6bb85799c610\",\"subtype\":\"Figure\",\"type\":\"Plot\"}},\"id\":\"bb75d92c-7ce5-4efa-ab2a-9a7e9b160524\",\"type\":\"WheelZoomTool\"},{\"attributes\":{\"callback\":null},\"id\":\"35904d61-c478-488c-b0a3-f2422a989a41\",\"type\":\"DataRange1d\"},{\"attributes\":{\"fill_alpha\":{\"value\":0.5},\"fill_color\":{\"value\":\"firebrick\"},\"line_alpha\":{\"value\":0.5},\"line_color\":{\"value\":\"firebrick\"},\"size\":{\"units\":\"screen\",\"value\":7},\"x\":{\"field\":\"x\"},\"y\":{\"field\":\"y\"}},\"id\":\"6ad024ee-c3f4-4b9a-8066-fcc91162253e\",\"type\":\"Circle\"},{\"attributes\":{},\"id\":\"a7d3a899-c549-4540-9177-1ec002f4165e\",\"type\":\"BasicTicker\"},{\"attributes\":{\"fill_alpha\":{\"value\":0.1},\"fill_color\":{\"value\":\"#1f77b4\"},\"line_alpha\":{\"value\":0.1},\"line_color\":{\"value\":\"#1f77b4\"},\"size\":{\"units\":\"screen\",\"value\":7},\"x\":{\"field\":\"x\"},\"y\":{\"field\":\"y\"}},\"id\":\"215b8953-5108-4c9c-9457-f705a11a828d\",\"type\":\"Circle\"},{\"attributes\":{\"dimension\":1,\"plot\":{\"id\":\"e43d3fb8-09c0-4eda-a8ed-54c092f6c289\",\"subtype\":\"Figure\",\"type\":\"Plot\"},\"ticker\":{\"id\":\"a7d3a899-c549-4540-9177-1ec002f4165e\",\"type\":\"BasicTicker\"}},\"id\":\"1a8b3ff8-47a2-46ec-8b06-2a741561c9ba\",\"type\":\"Grid\"},{\"attributes\":{\"plot\":{\"id\":\"39fca65d-ff07-4125-90b9-6bb85799c610\",\"subtype\":\"Figure\",\"type\":\"Plot\"}},\"id\":\"c028e5b5-2664-47d5-9585-4ba64bf1018a\",\"type\":\"PanTool\"},{\"attributes\":{\"callback\":null},\"id\":\"96b36531-520d-4e8b-b810-216092c4f273\",\"type\":\"DataRange1d\"},{\"attributes\":{\"fill_alpha\":{\"value\":0.1},\"fill_color\":{\"value\":\"#1f77b4\"},\"line_alpha\":{\"value\":0.1},\"line_color\":{\"value\":\"#1f77b4\"},\"size\":{\"units\":\"screen\",\"value\":7},\"x\":{\"field\":\"x\"},\"y\":{\"field\":\"y\"}},\"id\":\"8b608003-034c-457f-b977-66a9b873acfc\",\"type\":\"Circle\"},{\"attributes\":{\"below\":[{\"id\":\"42ffe725-4fc6-495e-ad49-757cf58b512e\",\"type\":\"LinearAxis\"}],\"left\":[{\"id\":\"0e256863-afc2-4f9f-9768-ffd6f277ad7e\",\"type\":\"LinearAxis\"}],\"plot_height\":500,\"plot_width\":500,\"renderers\":[{\"id\":\"42ffe725-4fc6-495e-ad49-757cf58b512e\",\"type\":\"LinearAxis\"},{\"id\":\"d98c0521-bf83-473b-a428-e0c2df84743b\",\"type\":\"Grid\"},{\"id\":\"0e256863-afc2-4f9f-9768-ffd6f277ad7e\",\"type\":\"LinearAxis\"},{\"id\":\"1a8b3ff8-47a2-46ec-8b06-2a741561c9ba\",\"type\":\"Grid\"},{\"id\":\"35bd8e08-fa44-491e-8311-61abc9b8cca2\",\"type\":\"BoxAnnotation\"},{\"id\":\"6671ff73-4bea-4784-81ff-4b2c6319bcbd\",\"type\":\"GlyphRenderer\"}],\"tool_events\":{\"id\":\"505194a4-d6a9-45ee-95ed-684878c5eb21\",\"type\":\"ToolEvents\"},\"tools\":[{\"id\":\"094b7084-8e59-4f88-8f20-739ff4dab445\",\"type\":\"PanTool\"},{\"id\":\"b9918b6d-ae6d-4701-92ad-ea8605418810\",\"type\":\"WheelZoomTool\"},{\"id\":\"a84d7bd3-ea11-4a04-af2d-bcffae8fc3b7\",\"type\":\"BoxZoomTool\"},{\"id\":\"1aba2d7e-dd08-4572-bf0e-6d150b988a93\",\"type\":\"PreviewSaveTool\"},{\"id\":\"83c72de5-81c4-4583-b91b-45f44d22084c\",\"type\":\"ResizeTool\"},{\"id\":\"89d96053-be8f-4cae-8430-a86f93a32379\",\"type\":\"ResetTool\"},{\"id\":\"9ee5cc41-122c-43e6-9d38-614765e8a9fc\",\"type\":\"HelpTool\"}],\"x_range\":{\"id\":\"96b36531-520d-4e8b-b810-216092c4f273\",\"type\":\"DataRange1d\"},\"y_range\":{\"id\":\"35904d61-c478-488c-b0a3-f2422a989a41\",\"type\":\"DataRange1d\"}},\"id\":\"e43d3fb8-09c0-4eda-a8ed-54c092f6c289\",\"subtype\":\"Figure\",\"type\":\"Plot\"},{\"attributes\":{\"plot\":{\"id\":\"e43d3fb8-09c0-4eda-a8ed-54c092f6c289\",\"subtype\":\"Figure\",\"type\":\"Plot\"}},\"id\":\"9ee5cc41-122c-43e6-9d38-614765e8a9fc\",\"type\":\"HelpTool\"},{\"attributes\":{\"fill_alpha\":{\"value\":0.5},\"fill_color\":{\"value\":\"firebrick\"},\"line_alpha\":{\"value\":0.5},\"line_color\":{\"value\":\"firebrick\"},\"size\":{\"units\":\"screen\",\"value\":7},\"x\":{\"field\":\"x\"},\"y\":{\"field\":\"y\"}},\"id\":\"590d6bbc-eb18-4375-a12e-1e0a07248e4a\",\"type\":\"Circle\"},{\"attributes\":{\"data_source\":{\"id\":\"346ca517-8725-47f3-b62c-310dfad8a5f5\",\"type\":\"ColumnDataSource\"},\"glyph\":{\"id\":\"590d6bbc-eb18-4375-a12e-1e0a07248e4a\",\"type\":\"Circle\"},\"hover_glyph\":null,\"nonselection_glyph\":{\"id\":\"215b8953-5108-4c9c-9457-f705a11a828d\",\"type\":\"Circle\"},\"selection_glyph\":null},\"id\":\"6671ff73-4bea-4784-81ff-4b2c6319bcbd\",\"type\":\"GlyphRenderer\"},{\"attributes\":{},\"id\":\"b042f4ca-e191-4d53-a000-6888b91c1e5f\",\"type\":\"BasicTicker\"},{\"attributes\":{\"callback\":null},\"id\":\"ad034b4d-5e4a-41c2-ae72-d752e8bcb1fc\",\"type\":\"DataRange1d\"},{\"attributes\":{\"bottom_units\":\"screen\",\"fill_alpha\":{\"value\":0.5},\"fill_color\":{\"value\":\"lightgrey\"},\"left_units\":\"screen\",\"level\":\"overlay\",\"line_alpha\":{\"value\":1.0},\"line_color\":{\"value\":\"black\"},\"line_dash\":[4,4],\"line_width\":{\"value\":2},\"plot\":null,\"render_mode\":\"css\",\"right_units\":\"screen\",\"top_units\":\"screen\"},\"id\":\"f266426c-b067-48c4-84fe-bf147a281301\",\"type\":\"BoxAnnotation\"},{\"attributes\":{},\"id\":\"505194a4-d6a9-45ee-95ed-684878c5eb21\",\"type\":\"ToolEvents\"},{\"attributes\":{\"plot\":{\"id\":\"39fca65d-ff07-4125-90b9-6bb85799c610\",\"subtype\":\"Figure\",\"type\":\"Plot\"}},\"id\":\"2b713563-b6ef-4eb3-ab4e-a1cf87b7b037\",\"type\":\"PreviewSaveTool\"},{\"attributes\":{\"plot\":{\"id\":\"39fca65d-ff07-4125-90b9-6bb85799c610\",\"subtype\":\"Figure\",\"type\":\"Plot\"}},\"id\":\"d8216c2a-5388-4a6f-bbdd-e0cf27c0f763\",\"type\":\"HelpTool\"},{\"attributes\":{\"plot\":{\"id\":\"e43d3fb8-09c0-4eda-a8ed-54c092f6c289\",\"subtype\":\"Figure\",\"type\":\"Plot\"}},\"id\":\"b9918b6d-ae6d-4701-92ad-ea8605418810\",\"type\":\"WheelZoomTool\"},{\"attributes\":{\"below\":[{\"id\":\"11b21788-5412-4b44-9372-2341a7c31b2b\",\"type\":\"LinearAxis\"}],\"left\":[{\"id\":\"253af9c1-ef13-40a1-abac-d8c0ee5babb7\",\"type\":\"LinearAxis\"}],\"plot_height\":500,\"plot_width\":500,\"renderers\":[{\"id\":\"11b21788-5412-4b44-9372-2341a7c31b2b\",\"type\":\"LinearAxis\"},{\"id\":\"c515f6fb-54c8-4672-813a-a8d7038124ab\",\"type\":\"Grid\"},{\"id\":\"253af9c1-ef13-40a1-abac-d8c0ee5babb7\",\"type\":\"LinearAxis\"},{\"id\":\"cc00cecb-a3d5-49df-b139-071a57a4cefe\",\"type\":\"Grid\"},{\"id\":\"f266426c-b067-48c4-84fe-bf147a281301\",\"type\":\"BoxAnnotation\"},{\"id\":\"4b95c795-4bc9-4dd9-a17d-20f594ba6929\",\"type\":\"GlyphRenderer\"}],\"tool_events\":{\"id\":\"cf6952d6-9d80-493a-8c26-a765795908fa\",\"type\":\"ToolEvents\"},\"tools\":[{\"id\":\"c028e5b5-2664-47d5-9585-4ba64bf1018a\",\"type\":\"PanTool\"},{\"id\":\"bb75d92c-7ce5-4efa-ab2a-9a7e9b160524\",\"type\":\"WheelZoomTool\"},{\"id\":\"4135d810-4124-4052-9d22-8f50036fc198\",\"type\":\"BoxZoomTool\"},{\"id\":\"2b713563-b6ef-4eb3-ab4e-a1cf87b7b037\",\"type\":\"PreviewSaveTool\"},{\"id\":\"45f636ea-6910-4619-94f8-3955573439c4\",\"type\":\"ResizeTool\"},{\"id\":\"451810dd-d314-4bc2-bd25-c10605c5b32b\",\"type\":\"ResetTool\"},{\"id\":\"d8216c2a-5388-4a6f-bbdd-e0cf27c0f763\",\"type\":\"HelpTool\"}],\"x_range\":{\"id\":\"ad034b4d-5e4a-41c2-ae72-d752e8bcb1fc\",\"type\":\"DataRange1d\"},\"y_range\":{\"id\":\"baad187d-c987-4c42-9df8-d7fe3c2513ae\",\"type\":\"DataRange1d\"}},\"id\":\"39fca65d-ff07-4125-90b9-6bb85799c610\",\"subtype\":\"Figure\",\"type\":\"Plot\"},{\"attributes\":{\"plot\":{\"id\":\"39fca65d-ff07-4125-90b9-6bb85799c610\",\"subtype\":\"Figure\",\"type\":\"Plot\"}},\"id\":\"45f636ea-6910-4619-94f8-3955573439c4\",\"type\":\"ResizeTool\"},{\"attributes\":{\"plot\":{\"id\":\"e43d3fb8-09c0-4eda-a8ed-54c092f6c289\",\"subtype\":\"Figure\",\"type\":\"Plot\"},\"ticker\":{\"id\":\"b042f4ca-e191-4d53-a000-6888b91c1e5f\",\"type\":\"BasicTicker\"}},\"id\":\"d98c0521-bf83-473b-a428-e0c2df84743b\",\"type\":\"Grid\"},{\"attributes\":{},\"id\":\"3d778eea-cf8c-4fa3-bfc0-ca5e4b6a7839\",\"type\":\"BasicTicker\"},{\"attributes\":{\"dimension\":1,\"plot\":{\"id\":\"39fca65d-ff07-4125-90b9-6bb85799c610\",\"subtype\":\"Figure\",\"type\":\"Plot\"},\"ticker\":{\"id\":\"fbbf8540-79a6-4316-8481-ecb53b703912\",\"type\":\"BasicTicker\"}},\"id\":\"cc00cecb-a3d5-49df-b139-071a57a4cefe\",\"type\":\"Grid\"},{\"attributes\":{\"plot\":{\"id\":\"e43d3fb8-09c0-4eda-a8ed-54c092f6c289\",\"subtype\":\"Figure\",\"type\":\"Plot\"}},\"id\":\"1aba2d7e-dd08-4572-bf0e-6d150b988a93\",\"type\":\"PreviewSaveTool\"},{\"attributes\":{},\"id\":\"cf6952d6-9d80-493a-8c26-a765795908fa\",\"type\":\"ToolEvents\"},{\"attributes\":{\"formatter\":{\"id\":\"f70d385d-3647-41b9-875d-f97b38b12039\",\"type\":\"BasicTickFormatter\"},\"plot\":{\"id\":\"39fca65d-ff07-4125-90b9-6bb85799c610\",\"subtype\":\"Figure\",\"type\":\"Plot\"},\"ticker\":{\"id\":\"3d778eea-cf8c-4fa3-bfc0-ca5e4b6a7839\",\"type\":\"BasicTicker\"}},\"id\":\"11b21788-5412-4b44-9372-2341a7c31b2b\",\"type\":\"LinearAxis\"},{\"attributes\":{},\"id\":\"6eb631e2-8a2c-4f70-8b45-286e5be996a4\",\"type\":\"BasicTickFormatter\"},{\"attributes\":{\"callback\":null,\"column_names\":[\"x\",\"y\"],\"data\":{\"x\":[-6.0,-5.878787878787879,-5.757575757575758,-5.636363636363637,-5.515151515151516,-5.393939393939394,-5.2727272727272725,-5.151515151515151,-5.03030303030303,-4.909090909090909,-4.787878787878788,-4.666666666666666,-4.545454545454545,-4.424242424242424,-4.303030303030303,-4.181818181818182,-4.0606060606060606,-3.9393939393939394,-3.8181818181818183,-3.696969696969697,-3.5757575757575757,-3.4545454545454546,-3.333333333333333,-3.212121212121212,-3.090909090909091,-2.9696969696969697,-2.8484848484848486,-2.727272727272727,-2.606060606060606,-2.484848484848485,-2.3636363636363633,-2.242424242424242,-2.121212121212121,-2.0,-1.878787878787879,-1.7575757575757578,-1.6363636363636367,-1.5151515151515147,-1.3939393939393936,-1.2727272727272725,-1.1515151515151514,-1.0303030303030303,-0.9090909090909092,-0.7878787878787881,-0.6666666666666661,-0.545454545454545,-0.42424242424242387,-0.30303030303030276,-0.18181818181818166,-0.06060606060606055,0.06060606060606055,0.18181818181818166,0.30303030303030276,0.42424242424242475,0.5454545454545459,0.666666666666667,0.7878787878787881,0.9090909090909092,1.0303030303030303,1.1515151515151514,1.2727272727272734,1.3939393939393945,1.5151515151515156,1.6363636363636367,1.7575757575757578,1.878787878787879,2.0,2.121212121212121,2.242424242424242,2.3636363636363633,2.4848484848484844,2.6060606060606055,2.7272727272727266,2.8484848484848495,2.9696969696969706,3.0909090909090917,3.212121212121213,3.333333333333334,3.454545454545455,3.575757575757576,3.6969696969696972,3.8181818181818183,3.9393939393939394,4.0606060606060606,4.181818181818182,4.303030303030303,4.424242424242424,4.545454545454545,4.666666666666668,4.787878787878789,4.90909090909091,5.030303030303031,5.151515151515152,5.272727272727273,5.3939393939393945,5.515151515151516,5.636363636363637,5.757575757575758,5.878787878787879,6.0],\"y\":[0.960170286650366,0.9193396548099325,0.865018266697566,0.7980032559988883,0.7192780276732816,0.6299978270778193,0.5314727874367585,0.42514870442477243,0.3125858199853547,0.19543592671908872,0.07541812882111003,-0.04570638473858134,-0.16616018460355267,-0.2841756837372786,-0.39802107569934975,-0.5060257478629665,-0.6066047966500377,-0.69828228503756,-0.7797129010453654,-0.8497016993799634,-0.9072216365377284,-0.9514286420503495,-0.9816740047110791,-0.9975138920213652,-0.9987158631657161,-0.9852622799408088,-0.9573505655855105,-0.9153903077136358,-0.8599972478621625,-0.7919842458546638,-0.7123493515724919,-0.6222611591732922,-0.5230416586748752,-0.4161468365471424,-0.3031453099867001,-0.18569530840332882,-0.06552033990114371,0.05561610016580718,0.17593640742677327,0.2936749537688711,0.40710399686726717,0.5145590337642212,0.6144632264484673,0.7053505410042532,0.7858872607769484,0.854891557862458,0.9113508357206178,0.954436588420145,0.9835165584646712,0.9981640147910761,0.9981640147910761,0.9835165584646712,0.954436588420145,0.9113508357206175,0.8548915578624574,0.7858872607769478,0.7053505410042532,0.6144632264484673,0.5145590337642212,0.40710399686726717,0.29367495376887026,0.17593640742677238,0.055616100165806294,-0.06552033990114371,-0.18569530840332882,-0.3031453099867001,-0.4161468365471424,-0.5230416586748752,-0.6222611591732922,-0.7123493515724919,-0.7919842458546635,-0.8599972478621623,-0.9153903077136356,-0.9573505655855107,-0.9852622799408091,-0.9987158631657161,-0.9975138920213652,-0.9816740047110789,-0.9514286420503493,-0.9072216365377281,-0.8497016993799632,-0.7797129010453654,-0.69828228503756,-0.6066047966500377,-0.5060257478629665,-0.39802107569934975,-0.2841756837372786,-0.16616018460355267,-0.04570638473857956,0.07541812882111092,0.1954359267190896,0.3125858199853555,0.4251487044247732,0.5314727874367593,0.6299978270778199,0.7192780276732816,0.7980032559988883,0.865018266697566,0.9193396548099325,0.960170286650366]}},\"id\":\"4a6df1e8-6754-4c48-9342-317aa79fac34\",\"type\":\"ColumnDataSource\"},{\"attributes\":{\"bottom_units\":\"screen\",\"fill_alpha\":{\"value\":0.5},\"fill_color\":{\"value\":\"lightgrey\"},\"left_units\":\"screen\",\"level\":\"overlay\",\"line_alpha\":{\"value\":1.0},\"line_color\":{\"value\":\"black\"},\"line_dash\":[4,4],\"line_width\":{\"value\":2},\"plot\":null,\"render_mode\":\"css\",\"right_units\":\"screen\",\"top_units\":\"screen\"},\"id\":\"35bd8e08-fa44-491e-8311-61abc9b8cca2\",\"type\":\"BoxAnnotation\"},{\"attributes\":{\"data_source\":{\"id\":\"4a6df1e8-6754-4c48-9342-317aa79fac34\",\"type\":\"ColumnDataSource\"},\"glyph\":{\"id\":\"6ad024ee-c3f4-4b9a-8066-fcc91162253e\",\"type\":\"Circle\"},\"hover_glyph\":null,\"nonselection_glyph\":{\"id\":\"8b608003-034c-457f-b977-66a9b873acfc\",\"type\":\"Circle\"},\"selection_glyph\":null},\"id\":\"4b95c795-4bc9-4dd9-a17d-20f594ba6929\",\"type\":\"GlyphRenderer\"}],\"root_ids\":[\"39fca65d-ff07-4125-90b9-6bb85799c610\",\"e43d3fb8-09c0-4eda-a8ed-54c092f6c289\"]},\"title\":\"Bokeh Application\",\"version\":\"0.11.1\"}};\n",
       "            var render_items = [{\"docid\":\"36bbe471-98e1-4ac8-8393-00f423a6f0ec\",\"elementid\":\"38729e62-e609-4803-89c7-b1a217f1e2c0\",\"modelid\":\"e43d3fb8-09c0-4eda-a8ed-54c092f6c289\",\"notebook_comms_target\":\"0b763b6f-f56e-43d0-83ff-bfefa311cbef\"}];\n",
       "            \n",
       "            Bokeh.embed.embed_items(docs_json, render_items);\n",
       "        });\n",
       "      },\n",
       "      function(Bokeh) {\n",
       "      }\n",
       "    ];\n",
       "  \n",
       "    function run_inline_js() {\n",
       "      for (var i = 0; i < inline_js.length; i++) {\n",
       "        inline_js[i](window.Bokeh);\n",
       "      }\n",
       "    }\n",
       "  \n",
       "    if (window._bokeh_is_loading === 0) {\n",
       "      console.log(\"Bokeh: BokehJS loaded, going straight to plotting\");\n",
       "      run_inline_js();\n",
       "    } else {\n",
       "      load_libs(js_urls, function() {\n",
       "        console.log(\"Bokeh: BokehJS plotting callback run at\", now());\n",
       "        run_inline_js();\n",
       "      });\n",
       "    }\n",
       "  }(this));\n",
       "</script>"
      ]
     },
     "metadata": {},
     "output_type": "display_data"
    },
    {
     "data": {
      "text/html": [
       "<p><code>&lt;Bokeh Notebook handle for <strong>In[5]</strong>&gt;</code></p>"
      ],
      "text/plain": [
       "<bokeh.io._CommsHandle at 0x7fe2b815c850>"
      ]
     },
     "execution_count": 5,
     "metadata": {},
     "output_type": "execute_result"
    }
   ],
   "source": [
    "p = figure(width=500, height=500)\n",
    "p.circle(x, y, size=7, color=\"firebrick\", alpha=0.5)\n",
    "show(p)"
   ]
  },
  {
   "cell_type": "code",
   "execution_count": null,
   "metadata": {
    "collapsed": true
   },
   "outputs": [],
   "source": []
  }
 ],
 "metadata": {
  "kernelspec": {
   "display_name": "Python 2",
   "language": "python",
   "name": "python2"
  },
  "language_info": {
   "codemirror_mode": {
    "name": "ipython",
    "version": 2
   },
   "file_extension": ".py",
   "mimetype": "text/x-python",
   "name": "python",
   "nbconvert_exporter": "python",
   "pygments_lexer": "ipython2",
   "version": "2.7.11"
  }
 },
 "nbformat": 4,
 "nbformat_minor": 0
}
